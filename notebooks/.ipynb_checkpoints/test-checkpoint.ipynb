{
 "cells": [
  {
   "cell_type": "code",
   "execution_count": null,
   "id": "141519da-2d6c-48ff-a28e-b87dd3f147f4",
   "metadata": {},
   "outputs": [],
   "source": [
    "from datetime import datetime\n",
    "from pprint import pprint\n",
    "from collections import defaultdict\n",
    "import json\n",
    "import os\n",
    "\n",
    "from dateutil.relativedelta import relativedelta\n",
    "import matplotlib.pyplot as plt\n",
    "import plotly.graph_objects as go\n",
    "\n",
    "from analytics.local_dataclasses import FinancialCategory, FinancialSubcategory, AccountFlow, FinancialTransactionType\n",
    "from analytics import transaction_reader, transaction_classifier, transaction_aggregator, figure_plotter"
   ]
  },
  {
   "cell_type": "code",
   "execution_count": null,
   "id": "c394c89c-4c44-4451-985c-5e882465f6af",
   "metadata": {},
   "outputs": [],
   "source": [
    "data_start = datetime(2022, 7, 1)\n",
    "data_end = datetime(2023, 10, 1)"
   ]
  },
  {
   "cell_type": "code",
   "execution_count": null,
   "id": "4858fe91-4a21-4b67-89f7-9e8d9aa3ba40",
   "metadata": {},
   "outputs": [],
   "source": [
    "category_schema, subcategory_schema = transaction_classifier.get_transaction_schema(os.path.join(os.getcwd(), '..', 'metadata', 'subcategory_schema.json'))\n",
    "all_transactions = transaction_reader.read_all_transactions_for_date_range(data_start, data_end)\n",
    "classified_transactions = transaction_classifier.classify_transactions(\n",
    "    category_schema, subcategory_schema, all_transactions)\n",
    "\n",
    "fig = figure_plotter.plot_balance_over_time(classified_transactions, data_start, data_end, relativedelta(months=1))\n",
    "fig.show()"
   ]
  },
  {
   "cell_type": "code",
   "execution_count": null,
   "id": "8fb573df-bf46-4880-8aed-9a5479f2c19f",
   "metadata": {},
   "outputs": [],
   "source": [
    "dict_of_lists = transaction_aggregator.get_balance_over_time(classified_transactions, data_start, data_end, relativedelta(months=1))\n",
    "fig = figure_plotter.plot_category_over_time(FinancialCategory.BANKING, classified_transactions, data_start, data_end, relativedelta(months=1))\n",
    "fig.show()"
   ]
  },
  {
   "cell_type": "code",
   "execution_count": null,
   "id": "8bf29424-7308-4f4d-9c7a-d582c4d93066",
   "metadata": {},
   "outputs": [],
   "source": [
    "start = data_start\n",
    "while start < data_end:\n",
    "    end = start + relativedelta(months=1)\n",
    "\n",
    "    classified_transactions_by_date = [t for t in classified_transactions if start <= t.date < end]\n",
    "\n",
    "    cd = transaction_aggregator.group_by_category(classified_transactions_by_date)\n",
    "    csd = transaction_aggregator.group_by_subcategory(classified_transactions_by_date)\n",
    "    balance = transaction_aggregator.calculate_balance(cd)\n",
    "\n",
    "    print(\"############\")\n",
    "    print(start)\n",
    "    print(\"############\")\n",
    "    pprint(cd)\n",
    "\n",
    "    fig1 = figure_plotter.plot_expenditures_subcategory_pie_chart(csd)\n",
    "    fig1.show()\n",
    "\n",
    "    fig2 = figure_plotter.plot_category_waterfall(cd)\n",
    "    fig2.show()\n",
    "    \n",
    "    start = start + relativedelta(months=1)"
   ]
  },
  {
   "cell_type": "code",
   "execution_count": null,
   "id": "15d087ad-424d-47c9-972d-2bd9bf55611a",
   "metadata": {},
   "outputs": [],
   "source": [
    "cd.keys()"
   ]
  },
  {
   "cell_type": "code",
   "execution_count": null,
   "id": "31c8fd2e-4d1b-4cfd-9857-2a105279dfb0",
   "metadata": {},
   "outputs": [],
   "source": []
  }
 ],
 "metadata": {
  "kernelspec": {
   "display_name": "Python 3 (ipykernel)",
   "language": "python",
   "name": "python3"
  },
  "language_info": {
   "codemirror_mode": {
    "name": "ipython",
    "version": 3
   },
   "file_extension": ".py",
   "mimetype": "text/x-python",
   "name": "python",
   "nbconvert_exporter": "python",
   "pygments_lexer": "ipython3",
   "version": "3.10.6"
  }
 },
 "nbformat": 4,
 "nbformat_minor": 5
}
