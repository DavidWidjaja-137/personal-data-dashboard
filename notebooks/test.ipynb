{
 "cells": [
  {
   "cell_type": "code",
   "execution_count": null,
   "id": "f6085f55-1c05-4fcf-83f7-24fae49a4350",
   "metadata": {},
   "outputs": [],
   "source": [
    "from datetime import datetime\n",
    "from pprint import pprint\n",
    "from collections import defaultdict\n",
    "import json\n",
    "import os\n",
    "\n",
    "from dateutil.relativedelta import relativedelta\n",
    "import plotly.graph_objects as go\n",
    "\n",
    "from analytics.local_dataclasses import FinancialCategory, FinancialSubcategory, AccountFlow, FinancialTransactionType\n",
    "from analytics import transaction_reader, transaction_classifier, transaction_aggregator, figure_plotter\n",
    "\n",
    "data_start = datetime(2022, 10, 1)\n",
    "data_end = datetime(2022, 12, 1)"
   ]
  },
  {
   "cell_type": "code",
   "execution_count": null,
   "id": "147c873c-5818-40fe-bc21-bf29ca3e0389",
   "metadata": {},
   "outputs": [],
   "source": [
    "category_schema, subcategory_schema = transaction_classifier.get_transaction_schema(os.path.join(os.getcwd(), '..', 'metadata', 'subcategory_schema.json'))\n",
    "all_transactions = transaction_reader.read_all_transactions_for_date_range(data_start, data_end)\n",
    "classified_transactions = transaction_classifier.classify_transactions(\n",
    "    category_schema, subcategory_schema, all_transactions)"
   ]
  },
  {
   "cell_type": "code",
   "execution_count": null,
   "id": "c8227dad-eadf-4185-b649-f87c62dc2529",
   "metadata": {},
   "outputs": [],
   "source": [
    "classified_transactions = sorted(classified_transactions, key=lambda x: (x.date, x.amount_cad))"
   ]
  },
  {
   "cell_type": "code",
   "execution_count": null,
   "id": "31c8fd2e-4d1b-4cfd-9857-2a105279dfb0",
   "metadata": {},
   "outputs": [],
   "source": [
    "[(t.date, t.made_to, t.amount_cad, t.bank_account) for t in classified_transactions if t.subcategory == FinancialSubcategory.BANKING_INTERNAL_TRANSFERS]"
   ]
  },
  {
   "cell_type": "code",
   "execution_count": null,
   "id": "28786cac-c0a1-4e1e-a5c1-1fecff1870e4",
   "metadata": {},
   "outputs": [],
   "source": []
  }
 ],
 "metadata": {
  "kernelspec": {
   "display_name": "Python 3 (ipykernel)",
   "language": "python",
   "name": "python3"
  },
  "language_info": {
   "codemirror_mode": {
    "name": "ipython",
    "version": 3
   },
   "file_extension": ".py",
   "mimetype": "text/x-python",
   "name": "python",
   "nbconvert_exporter": "python",
   "pygments_lexer": "ipython3",
   "version": "3.10.6"
  }
 },
 "nbformat": 4,
 "nbformat_minor": 5
}
